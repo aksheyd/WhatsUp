{
 "cells": [
  {
   "cell_type": "markdown",
   "id": "b471a9e6-6ab8-4ae2-88f0-9e4e8cc592cb",
   "metadata": {},
   "source": [
    "# Configure Environment\n",
    "\n",
    "```sh\n",
    "python3 -m venv venv\n",
    "source venv/bin/activate\n",
    "\n",
    "# install necessary packages\n",
    "pip3 install requests\n",
    "```\n",
    "\n",
    "After installing the necessary packages, we can import them like the following:"
   ]
  },
  {
   "cell_type": "code",
   "execution_count": 2,
   "id": "1e8c9280-4059-4416-a272-1b8bf8a82ab3",
   "metadata": {},
   "outputs": [],
   "source": [
    "import requests\n",
    "import json"
   ]
  },
  {
   "attachments": {},
   "cell_type": "markdown",
   "id": "7a764f0c-3a22-4583-a366-a0cb395cb7f2",
   "metadata": {},
   "source": [
    "# Using the NYT API\n",
    "\n",
    "Create an account for [NYT's API](https://developer.nytimes.com/get-started) and import your API key:"
   ]
  },
  {
   "cell_type": "code",
   "execution_count": 3,
   "id": "b276fbc7-1220-4b24-8c58-9355b90bc000",
   "metadata": {},
   "outputs": [],
   "source": [
    "# Load API key\n",
    "with open(\"nyt_api_key\", \"r\") as api_key:\n",
    "\tAPI_KEY = api_key.read()\n",
    "\n",
    "API_URL = \"https://api.nytimes.com/svc/archive/v1\"\n",
    "\n",
    "# Add API key to HTTP request params\n",
    "params = {\n",
    "    \"api-key\": API_KEY\n",
    "}"
   ]
  },
  {
   "cell_type": "markdown",
   "id": "60bfbae6-557c-41ea-911e-5d7cbaed2cda",
   "metadata": {},
   "source": [
    "Then, we can send a GET request to the NYT API URL for a specified month and year:"
   ]
  },
  {
   "cell_type": "code",
   "execution_count": 7,
   "id": "a3840217-074a-4a88-a0ce-390e590f3caf",
   "metadata": {},
   "outputs": [],
   "source": [
    "year = 2024\n",
    "month = 1\n",
    "\n",
    "# Send HTTP request\n",
    "response = requests.get(f\"{API_URL}/{year}/{month}.json\", params=params)"
   ]
  },
  {
   "cell_type": "markdown",
   "id": "c0a47850-4f6f-4dde-9ba8-531de20746be",
   "metadata": {},
   "source": [
    "Finally, we can parse the JSON response and store it in a JSON file:"
   ]
  },
  {
   "cell_type": "code",
   "execution_count": 8,
   "id": "34120454-f798-4688-8ff1-0c4149828ea9",
   "metadata": {},
   "outputs": [
    {
     "name": "stdout",
     "output_type": "stream",
     "text": [
      "Response saved to response-2024-1.json\n"
     ]
    }
   ],
   "source": [
    "# Parse response into JSON and store in file\n",
    "if response.status_code == 200:\n",
    "    try:\n",
    "        data = response.json()  \n",
    "        with open(f\"response-{year}-{month}.json\", \"w\", encoding=\"utf-8\") as file:\n",
    "            json.dump(data, file, indent=4)  \n",
    "        print(f\"Response saved to response-{year}-{month}.json\")\n",
    "    except json.JSONDecodeError:\n",
    "        print(\"Error: Response is not valid JSON\")\n",
    "else:\n",
    "    print(f\"Error: {response.status_code}, {response.text}\")"
   ]
  }
 ],
 "metadata": {
  "kernelspec": {
   "display_name": "env",
   "language": "python",
   "name": "python3"
  },
  "language_info": {
   "codemirror_mode": {
    "name": "ipython",
    "version": 3
   },
   "file_extension": ".py",
   "mimetype": "text/x-python",
   "name": "python",
   "nbconvert_exporter": "python",
   "pygments_lexer": "ipython3",
   "version": "3.13.1"
  }
 },
 "nbformat": 4,
 "nbformat_minor": 5
}
